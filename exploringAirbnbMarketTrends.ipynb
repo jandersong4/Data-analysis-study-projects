{
 "cells": [
  {
   "cell_type": "markdown",
   "metadata": {},
   "source": [
    "![NYC Skyline](nyc.jpg)\n",
    "\n",
    "Welcome to New York City, one of the most-visited cities in the world. There are many Airbnb listings in New York City to meet the high demand for temporary lodging for travelers, which can be anywhere between a few nights to many months. In this project, we will take a closer look at the New York Airbnb market by combining data from multiple file types like `.csv`, `.tsv`, and `.xlsx`.\n",
    "\n",
    "Recall that **CSV**, **TSV**, and **Excel** files are three common formats for storing data. \n",
    "Three files containing data on 2019 Airbnb listings are available to you:\n",
    "\n",
    "**data/airbnb_price.csv**\n",
    "This is a CSV file containing data on Airbnb listing prices and locations.\n",
    "- **`listing_id`**: unique identifier of listing\n",
    "- **`price`**: nightly listing price in USD\n",
    "- **`nbhood_full`**: name of borough and neighborhood where listing is located\n",
    "\n",
    "**data/airbnb_room_type.xlsx**\n",
    "This is an Excel file containing data on Airbnb listing descriptions and room types.\n",
    "- **`listing_id`**: unique identifier of listing\n",
    "- **`description`**: listing description\n",
    "- **`room_type`**: Airbnb has three types of rooms: shared rooms, private rooms, and entire homes/apartments\n",
    "\n",
    "**data/airbnb_last_review.tsv**\n",
    "This is a TSV file containing data on Airbnb host names and review dates.\n",
    "- **`listing_id`**: unique identifier of listing\n",
    "- **`host_name`**: name of listing host\n",
    "- **`last_review`**: date when the listing was last reviewed"
   ]
  },
  {
   "cell_type": "markdown",
   "metadata": {},
   "source": [
    "### Steps:\n",
    "\n",
    "1. Loading the data [X]\n",
    "\n",
    "2. Merging the three DataFrames [x]\n",
    "\n",
    "3. Determining the earliest and most recent review dates [x]\n",
    "\n",
    "4. Finding how many listings are private rooms [x]\n",
    "\n",
    "5. Finding the average price of listings [x]\n",
    "\n",
    "6. Creating a DataFrame with the four solution values [x]"
   ]
  },
  {
   "cell_type": "code",
   "execution_count": 177,
   "metadata": {},
   "outputs": [],
   "source": [
    "#imports\n",
    "import pandas as pd\n",
    "import numpy as np"
   ]
  },
  {
   "cell_type": "code",
   "execution_count": 178,
   "metadata": {},
   "outputs": [],
   "source": [
    "#Lendo arquivos\n",
    "price_ds = pd.read_csv('airbnb_price.csv')\n",
    "last_review_ds = pd.read_csv('airbnb_last_review.tsv', sep='\\t')\n",
    "room_type_ds = pd.read_excel('airbnb_room_type.xlsx')"
   ]
  },
  {
   "cell_type": "code",
   "execution_count": 179,
   "metadata": {},
   "outputs": [
    {
     "data": {
      "text/html": [
       "<div>\n",
       "<style scoped>\n",
       "    .dataframe tbody tr th:only-of-type {\n",
       "        vertical-align: middle;\n",
       "    }\n",
       "\n",
       "    .dataframe tbody tr th {\n",
       "        vertical-align: top;\n",
       "    }\n",
       "\n",
       "    .dataframe thead th {\n",
       "        text-align: right;\n",
       "    }\n",
       "</style>\n",
       "<table border=\"1\" class=\"dataframe\">\n",
       "  <thead>\n",
       "    <tr style=\"text-align: right;\">\n",
       "      <th></th>\n",
       "      <th>listing_id</th>\n",
       "      <th>price</th>\n",
       "      <th>nbhood_full</th>\n",
       "    </tr>\n",
       "  </thead>\n",
       "  <tbody>\n",
       "    <tr>\n",
       "      <th>0</th>\n",
       "      <td>2595</td>\n",
       "      <td>225 dollars</td>\n",
       "      <td>Manhattan, Midtown</td>\n",
       "    </tr>\n",
       "    <tr>\n",
       "      <th>1</th>\n",
       "      <td>3831</td>\n",
       "      <td>89 dollars</td>\n",
       "      <td>Brooklyn, Clinton Hill</td>\n",
       "    </tr>\n",
       "  </tbody>\n",
       "</table>\n",
       "</div>"
      ],
      "text/plain": [
       "   listing_id        price             nbhood_full\n",
       "0        2595  225 dollars      Manhattan, Midtown\n",
       "1        3831   89 dollars  Brooklyn, Clinton Hill"
      ]
     },
     "metadata": {},
     "output_type": "display_data"
    },
    {
     "data": {
      "text/html": [
       "<div>\n",
       "<style scoped>\n",
       "    .dataframe tbody tr th:only-of-type {\n",
       "        vertical-align: middle;\n",
       "    }\n",
       "\n",
       "    .dataframe tbody tr th {\n",
       "        vertical-align: top;\n",
       "    }\n",
       "\n",
       "    .dataframe thead th {\n",
       "        text-align: right;\n",
       "    }\n",
       "</style>\n",
       "<table border=\"1\" class=\"dataframe\">\n",
       "  <thead>\n",
       "    <tr style=\"text-align: right;\">\n",
       "      <th></th>\n",
       "      <th>listing_id</th>\n",
       "      <th>host_name</th>\n",
       "      <th>last_review</th>\n",
       "    </tr>\n",
       "  </thead>\n",
       "  <tbody>\n",
       "    <tr>\n",
       "      <th>0</th>\n",
       "      <td>2595</td>\n",
       "      <td>Jennifer</td>\n",
       "      <td>May 21 2019</td>\n",
       "    </tr>\n",
       "    <tr>\n",
       "      <th>1</th>\n",
       "      <td>3831</td>\n",
       "      <td>LisaRoxanne</td>\n",
       "      <td>July 05 2019</td>\n",
       "    </tr>\n",
       "  </tbody>\n",
       "</table>\n",
       "</div>"
      ],
      "text/plain": [
       "   listing_id    host_name   last_review\n",
       "0        2595     Jennifer   May 21 2019\n",
       "1        3831  LisaRoxanne  July 05 2019"
      ]
     },
     "metadata": {},
     "output_type": "display_data"
    },
    {
     "data": {
      "text/html": [
       "<div>\n",
       "<style scoped>\n",
       "    .dataframe tbody tr th:only-of-type {\n",
       "        vertical-align: middle;\n",
       "    }\n",
       "\n",
       "    .dataframe tbody tr th {\n",
       "        vertical-align: top;\n",
       "    }\n",
       "\n",
       "    .dataframe thead th {\n",
       "        text-align: right;\n",
       "    }\n",
       "</style>\n",
       "<table border=\"1\" class=\"dataframe\">\n",
       "  <thead>\n",
       "    <tr style=\"text-align: right;\">\n",
       "      <th></th>\n",
       "      <th>listing_id</th>\n",
       "      <th>description</th>\n",
       "      <th>room_type</th>\n",
       "    </tr>\n",
       "  </thead>\n",
       "  <tbody>\n",
       "    <tr>\n",
       "      <th>0</th>\n",
       "      <td>2595</td>\n",
       "      <td>Skylit Midtown Castle</td>\n",
       "      <td>Entire home/apt</td>\n",
       "    </tr>\n",
       "    <tr>\n",
       "      <th>1</th>\n",
       "      <td>3831</td>\n",
       "      <td>Cozy Entire Floor of Brownstone</td>\n",
       "      <td>Entire home/apt</td>\n",
       "    </tr>\n",
       "  </tbody>\n",
       "</table>\n",
       "</div>"
      ],
      "text/plain": [
       "   listing_id                      description        room_type\n",
       "0        2595            Skylit Midtown Castle  Entire home/apt\n",
       "1        3831  Cozy Entire Floor of Brownstone  Entire home/apt"
      ]
     },
     "metadata": {},
     "output_type": "display_data"
    }
   ],
   "source": [
    "#visualização dos dados\n",
    "display(price_ds.head(2))\n",
    "display(last_review_ds.head(2))\n",
    "display(room_type_ds.head(2))"
   ]
  },
  {
   "cell_type": "code",
   "execution_count": 211,
   "metadata": {},
   "outputs": [
    {
     "data": {
      "text/html": [
       "<div>\n",
       "<style scoped>\n",
       "    .dataframe tbody tr th:only-of-type {\n",
       "        vertical-align: middle;\n",
       "    }\n",
       "\n",
       "    .dataframe tbody tr th {\n",
       "        vertical-align: top;\n",
       "    }\n",
       "\n",
       "    .dataframe thead th {\n",
       "        text-align: right;\n",
       "    }\n",
       "</style>\n",
       "<table border=\"1\" class=\"dataframe\">\n",
       "  <thead>\n",
       "    <tr style=\"text-align: right;\">\n",
       "      <th></th>\n",
       "      <th>listing_id</th>\n",
       "      <th>price</th>\n",
       "      <th>nbhood_full</th>\n",
       "      <th>host_name</th>\n",
       "      <th>last_review</th>\n",
       "      <th>description</th>\n",
       "      <th>room_type</th>\n",
       "    </tr>\n",
       "  </thead>\n",
       "  <tbody>\n",
       "    <tr>\n",
       "      <th>12007</th>\n",
       "      <td>21751907</td>\n",
       "      <td>40 dollars</td>\n",
       "      <td>Brooklyn, Sunset Park</td>\n",
       "      <td>Aura Angelica</td>\n",
       "      <td>2019-01-01</td>\n",
       "      <td>Room in Brooklyn, 5 min to N and R train</td>\n",
       "      <td>PRIVATE ROOM</td>\n",
       "    </tr>\n",
       "    <tr>\n",
       "      <th>10430</th>\n",
       "      <td>19708955</td>\n",
       "      <td>700 dollars</td>\n",
       "      <td>Manhattan, Tribeca</td>\n",
       "      <td>Karen</td>\n",
       "      <td>2019-01-01</td>\n",
       "      <td>Good Vibes Tribeca Loft</td>\n",
       "      <td>Entire home/apt</td>\n",
       "    </tr>\n",
       "    <tr>\n",
       "      <th>14845</th>\n",
       "      <td>25931882</td>\n",
       "      <td>65 dollars</td>\n",
       "      <td>Brooklyn, Clinton Hill</td>\n",
       "      <td>Can</td>\n",
       "      <td>2019-01-01</td>\n",
       "      <td>Large sunny room in Modern Brooklyn Townhouse</td>\n",
       "      <td>Private room</td>\n",
       "    </tr>\n",
       "    <tr>\n",
       "      <th>7203</th>\n",
       "      <td>13936825</td>\n",
       "      <td>75 dollars</td>\n",
       "      <td>Queens, Forest Hills</td>\n",
       "      <td>Shlomit</td>\n",
       "      <td>2019-01-01</td>\n",
       "      <td>Spacious master bedroom in Forest Hills</td>\n",
       "      <td>Private room</td>\n",
       "    </tr>\n",
       "    <tr>\n",
       "      <th>17123</th>\n",
       "      <td>28813184</td>\n",
       "      <td>125 dollars</td>\n",
       "      <td>Manhattan, East Village</td>\n",
       "      <td>Carolyn</td>\n",
       "      <td>2019-01-01</td>\n",
       "      <td>Tranquil East Village 1 Bedroom</td>\n",
       "      <td>Entire home/apt</td>\n",
       "    </tr>\n",
       "  </tbody>\n",
       "</table>\n",
       "</div>"
      ],
      "text/plain": [
       "       listing_id        price              nbhood_full      host_name  \\\n",
       "12007    21751907   40 dollars    Brooklyn, Sunset Park  Aura Angelica   \n",
       "10430    19708955  700 dollars       Manhattan, Tribeca          Karen   \n",
       "14845    25931882   65 dollars   Brooklyn, Clinton Hill            Can   \n",
       "7203     13936825   75 dollars     Queens, Forest Hills        Shlomit   \n",
       "17123    28813184  125 dollars  Manhattan, East Village        Carolyn   \n",
       "\n",
       "      last_review                                    description  \\\n",
       "12007  2019-01-01       Room in Brooklyn, 5 min to N and R train   \n",
       "10430  2019-01-01                        Good Vibes Tribeca Loft   \n",
       "14845  2019-01-01  Large sunny room in Modern Brooklyn Townhouse   \n",
       "7203   2019-01-01        Spacious master bedroom in Forest Hills   \n",
       "17123  2019-01-01                Tranquil East Village 1 Bedroom   \n",
       "\n",
       "             room_type  \n",
       "12007     PRIVATE ROOM  \n",
       "10430  Entire home/apt  \n",
       "14845     Private room  \n",
       "7203      Private room  \n",
       "17123  Entire home/apt  "
      ]
     },
     "metadata": {},
     "output_type": "display_data"
    }
   ],
   "source": [
    "#merge de dados\n",
    "merged_ds = pd.merge(price_ds,last_review_ds, on=None)\n",
    "merged_ds = pd.merge(merged_ds,room_type_ds, on=None)\n",
    "merged_ds['last_review'] = merged_ds['last_review'] = pd.to_datetime(merged_ds['last_review'], format='%B %d %Y')\n",
    "merged_ds.sort_values(by='last_review', inplace=True)\n",
    "display(merged_ds.head())\n",
    "\n"
   ]
  },
  {
   "cell_type": "code",
   "execution_count": 212,
   "metadata": {},
   "outputs": [
    {
     "name": "stdout",
     "output_type": "stream",
     "text": [
      "most_recently = 2019-07-09 00:00:00\n",
      "earliest_review = 2019-01-01 00:00:00\n"
     ]
    }
   ],
   "source": [
    "most_recently = merged_ds['last_review'].max()\n",
    "earliest_review = merged_ds['last_review'].min()\n",
    "\n",
    "print('most_recently =',most_recently)\n",
    "print('earliest_review =',earliest_review)\n"
   ]
  },
  {
   "cell_type": "code",
   "execution_count": 213,
   "metadata": {},
   "outputs": [
    {
     "name": "stdout",
     "output_type": "stream",
     "text": [
      "room_type_quantity = 11356\n"
     ]
    }
   ],
   "source": [
    "merged_ds['room_type'] = merged_ds['room_type'].str.lower()\n",
    "room_type_quantity = merged_ds['room_type'].value_counts().get('private room')\n",
    "print('room_type_quantity =',room_type_quantity)"
   ]
  },
  {
   "cell_type": "code",
   "execution_count": 214,
   "metadata": {},
   "outputs": [
    {
     "name": "stdout",
     "output_type": "stream",
     "text": [
      "mean_price = 141.7779364512674\n"
     ]
    }
   ],
   "source": [
    "merged_ds['price'] =  merged_ds['price'].str.replace('dollars', '').astype(float)\n",
    "mean_price =  merged_ds['price'].mean()\n",
    "print('mean_price =',mean_price)\n"
   ]
  },
  {
   "cell_type": "code",
   "execution_count": 216,
   "metadata": {},
   "outputs": [
    {
     "data": {
      "text/html": [
       "<div>\n",
       "<style scoped>\n",
       "    .dataframe tbody tr th:only-of-type {\n",
       "        vertical-align: middle;\n",
       "    }\n",
       "\n",
       "    .dataframe tbody tr th {\n",
       "        vertical-align: top;\n",
       "    }\n",
       "\n",
       "    .dataframe thead th {\n",
       "        text-align: right;\n",
       "    }\n",
       "</style>\n",
       "<table border=\"1\" class=\"dataframe\">\n",
       "  <thead>\n",
       "    <tr style=\"text-align: right;\">\n",
       "      <th></th>\n",
       "      <th>first_reviewed</th>\n",
       "      <th>last_reviewed</th>\n",
       "      <th>nb_private_rooms</th>\n",
       "      <th>avg_price</th>\n",
       "    </tr>\n",
       "  </thead>\n",
       "  <tbody>\n",
       "    <tr>\n",
       "      <th>0</th>\n",
       "      <td>2019-01-01</td>\n",
       "      <td>2019-07-09</td>\n",
       "      <td>11356</td>\n",
       "      <td>141.78</td>\n",
       "    </tr>\n",
       "  </tbody>\n",
       "</table>\n",
       "</div>"
      ],
      "text/plain": [
       "  first_reviewed last_reviewed nb_private_rooms  avg_price\n",
       "0     2019-01-01    2019-07-09            11356     141.78"
      ]
     },
     "metadata": {},
     "output_type": "display_data"
    }
   ],
   "source": [
    "review_dates =  pd.DataFrame(np.array([[earliest_review, most_recently, room_type_quantity,mean_price]]),columns=['first_reviewed','last_reviewed','nb_private_rooms','avg_price'])\n",
    "review_dates['avg_price'] = review_dates['avg_price'].astype(float).round(2)\n",
    "display(review_dates)"
   ]
  }
 ],
 "metadata": {
  "kernelspec": {
   "display_name": "Python 3",
   "language": "python",
   "name": "python3"
  },
  "language_info": {
   "codemirror_mode": {
    "name": "ipython",
    "version": 3
   },
   "file_extension": ".py",
   "mimetype": "text/x-python",
   "name": "python",
   "nbconvert_exporter": "python",
   "pygments_lexer": "ipython3",
   "version": "3.10.12"
  }
 },
 "nbformat": 4,
 "nbformat_minor": 2
}
